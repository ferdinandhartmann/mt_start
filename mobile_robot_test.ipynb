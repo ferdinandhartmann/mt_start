{
 "cells": [
  {
   "cell_type": "code",
   "execution_count": null,
   "metadata": {},
   "outputs": [],
   "source": [
    "import pybullet as p\n",
    "import pybullet_data\n",
    "import numpy as np\n",
    "import time\n",
    "\n",
    "physics_client = p.connect(p.GUI)  # Use p.DIRECT for non-graphical mode"
   ]
  },
  {
   "cell_type": "code",
   "execution_count": null,
   "metadata": {},
   "outputs": [
    {
     "name": "stdout",
     "output_type": "stream",
     "text": [
      "Joint 0: name=left_wheel_joint, type=0\n",
      "Joint 1: name=right_wheel_joint, type=0\n",
      "Joint 2: name=front_caster_joint, type=4\n",
      "Joint 3: name=back_caster_joint, type=4\n",
      "Joint 4: name=bumper_joint, type=4\n",
      "Joint 5: name=lidar_joint, type=4\n",
      "Joint 6: name=front_sensor_joint, type=4\n",
      "Joint 7: name=front_sensor_target_joint, type=4\n",
      "Joint 8: name=bottom_sensor_joint, type=4\n",
      "Joint 9: name=bottom_sensor_target_joint, type=4\n"
     ]
    }
   ],
   "source": [
    "p.resetSimulation() # Reset the simulation space\n",
    "p.setAdditionalSearchPath(pybullet_data.getDataPath()) # Add path to necessary data for p\n",
    "p.setGravity(0.0, 0.0, -9.8) # Set gravity as on Earth\n",
    "time_step = 1./240.\n",
    "p.setTimeStep(time_step) # Set the elapsed time per step\n",
    "\n",
    "plane_id = p.loadURDF(\"plane.urdf\")\n",
    "\n",
    "camera_distance = 12.0\n",
    "camera_yaw = 0.0 # deg\n",
    "camera_pitch = -60 # deg\n",
    "camera_target_position = [0.0, 0.0, 0.0]\n",
    "p.resetDebugVisualizerCamera(camera_distance, camera_yaw, camera_pitch, camera_target_position)\n",
    "\n",
    "\n",
    "# Load the robot\n",
    "car_start_pos = [0, 0, 0.1]  # Set the initial position (x, y, z)\n",
    "car_start_orientation = p.getQuaternionFromEuler([0, 0, 0])  # Set the initial orientation (roll, pitch, yaw)\n",
    "# It seems that the mesh in the urdf file does not reflect textures, so each link is colored with rgba tags\n",
    "car_id = p.loadURDF(\"/urdf/simple_two_wheel_car.urdf\", car_start_pos, car_start_orientation)\n",
    "\n",
    "p.loadURDF(\"urdf/maze.urdf\",basePosition=[0, 0, 0], useFixedBase=True)\n",
    "\n",
    "# Maze\n",
    "goal_area_1_center = [5, 5, 0.1]\n",
    "goal_area_2_center = [5, -5, 0.1]\n",
    "goal_radius = 0.5 # How close the car needs to be\n",
    "\n",
    "# Optional: Visualize goals (only works in GUI mode)\n",
    "if p.getConnectionInfo()['connectionMethod'] == p.GUI:\n",
    "    goal_visual_shape_1 = p.createVisualShape(p.GEOM_SPHERE, radius=goal_radius, rgbaColor=[0, 1, 0, 0.5])\n",
    "    goal_visual_shape_2 = p.createVisualShape(p.GEOM_SPHERE, radius=goal_radius, rgbaColor=[1, 0, 0, 0.5])\n",
    "    p.createMultiBody(baseVisualShapeIndex=goal_visual_shape_1, basePosition=goal_area_1_center)\n",
    "    p.createMultiBody(baseVisualShapeIndex=goal_visual_shape_2, basePosition=goal_area_2_center)\n",
    "\n",
    "# Function to check if car is in a goal area\n",
    "def check_goal(car_id, goal_center, radius):\n",
    "    car_pos, _ = p.getBasePositionAndOrientation(car_id)\n",
    "    dist = np.linalg.norm(np.array(car_pos[:2]) - np.array(goal_center[:2])) # Check only X,Y distance\n",
    "    return dist < radius\n",
    "\n",
    "def set_wheel_velocities(vel_left, veL_right):\n",
    "    p.setJointMotorControl2(car_id, 1, p.VELOCITY_CONTROL, targetVelocity=vel_left, force=20)\n",
    "    p.setJointMotorControl2(car_id, 0, p.VELOCITY_CONTROL, targetVelocity=veL_right, force=20)\n"
   ]
  },
  {
   "cell_type": "code",
   "execution_count": 32,
   "metadata": {},
   "outputs": [],
   "source": [
    "# Test basic movement\n",
    "for i in range(10):\n",
    "    set_wheel_velocities(10.0, 5.0) # Move forward\n",
    "    p.stepSimulation()\n",
    "    time.sleep(1./240.)"
   ]
  },
  {
   "cell_type": "code",
   "execution_count": 36,
   "metadata": {},
   "outputs": [
    {
     "name": "stdout",
     "output_type": "stream",
     "text": [
      "numActiveThreads = 0\n",
      "stopping threads\n",
      "destroy semaphore\n",
      "semaphore destroyed\n",
      "Thread with taskId 0 exiting\n",
      "Thread TERMINATED\n",
      "destroy main semaphore\n",
      "main semaphore destroyed\n",
      "finished\n",
      "numActiveThreads = 0\n",
      "btShutDownExampleBrowser stopping threads\n",
      "destroy semaphore\n",
      "semaphore destroyed\n",
      "Thread with taskId 0 exiting\n",
      "Thread TERMINATED\n",
      "destroy main semaphore\n",
      "main semaphore destroyed\n"
     ]
    }
   ],
   "source": [
    "p.resetSimulation()\n",
    "p.disconnect()"
   ]
  }
 ],
 "metadata": {
  "kernelspec": {
   "display_name": "ve_pybullet",
   "language": "python",
   "name": "python3"
  },
  "language_info": {
   "codemirror_mode": {
    "name": "ipython",
    "version": 3
   },
   "file_extension": ".py",
   "mimetype": "text/x-python",
   "name": "python",
   "nbconvert_exporter": "python",
   "pygments_lexer": "ipython3",
   "version": "3.10.12"
  }
 },
 "nbformat": 4,
 "nbformat_minor": 2
}
