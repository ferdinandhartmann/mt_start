{
 "cells": [
  {
   "cell_type": "code",
   "execution_count": 8,
   "metadata": {},
   "outputs": [
    {
     "name": "stdout",
     "output_type": "stream",
     "text": [
      "startThreads creating 1 threads.\n",
      "starting thread 0\n",
      "started thread 0 \n",
      "argc=2\n",
      "argv[0] = --unused\n",
      "argv[1] = --start_demo_name=Physics Server\n",
      "ExampleBrowserThreadFunc started\n",
      "X11 functions dynamically loaded using dlopen/dlsym OK!\n",
      "X11 functions dynamically loaded using dlopen/dlsym OK!\n",
      "Creating context\n",
      "Created GL 3.3 context\n",
      "Direct GLX rendering context obtained\n",
      "Making context current\n",
      "GL_VENDOR=Intel\n",
      "GL_RENDERER=Mesa Intel(R) Graphics (RPL-P)\n",
      "GL_VERSION=4.6 (Core Profile) Mesa 23.2.1-1ubuntu3.1~22.04.3\n",
      "GL_SHADING_LANGUAGE_VERSION=4.60\n",
      "pthread_getconcurrency()=0\n",
      "Version = 4.6 (Core Profile) Mesa 23.2.1-1ubuntu3.1~22.04.3\n",
      "Vendor = Intel\n",
      "Renderer = Mesa Intel(R) Graphics (RPL-P)\n",
      "b3Printf: Selected demo: Physics Server\n",
      "startThreads creating 1 threads.\n",
      "starting thread 0\n",
      "started thread 0 \n",
      "MotionThreadFunc thread started\n"
     ]
    }
   ],
   "source": [
    "import pybullet as p\n",
    "import pybullet_data\n",
    "import time\n",
    "import numpy as np\n",
    "physics_client = p.connect(p.GUI) "
   ]
  },
  {
   "cell_type": "code",
   "execution_count": 9,
   "metadata": {},
   "outputs": [
    {
     "name": "stdout",
     "output_type": "stream",
     "text": [
      "ven = Intel\n",
      "Workaround for some crash in the Intel OpenGL driver on Linux/Ubuntu\n",
      "ven = Intel\n",
      "Workaround for some crash in the Intel OpenGL driver on Linux/Ubuntu\n"
     ]
    }
   ],
   "source": [
    "p.resetSimulation() # Reset the simulation space\n",
    "p.setAdditionalSearchPath(pybullet_data.getDataPath()) # Add path to necessary data for p\n",
    "p.setGravity(0.0, 0.0, -9.8) # Set gravity as on Earth\n",
    "time_step = 1./240.\n",
    "p.setTimeStep(time_step) # Set the elapsed time per step\n",
    "\n",
    "plane_id = p.loadURDF(\"plane.urdf\")\n",
    "\n",
    "camera_distance = 2.0\n",
    "camera_yaw = 0.0 # deg\n",
    "camera_pitch = -20 # deg\n",
    "camera_target_position = [0.0, 0.0, 0.0]\n",
    "p.resetDebugVisualizerCamera(camera_distance, camera_yaw, camera_pitch, camera_target_position)"
   ]
  },
  {
   "cell_type": "code",
   "execution_count": 10,
   "metadata": {},
   "outputs": [],
   "source": [
    "# Load the robot\n",
    "car_start_pos = [0, 0, 0.1]  # Set the initial position (x, y, z)\n",
    "car_start_orientation = p.getQuaternionFromEuler([0, 0, 0])  # Set the initial orientation (roll, pitch, yaw)\n",
    "# It seems that the mesh in the urdf file does not reflect textures, so each link is colored with rgba tags\n",
    "car_id = p.loadURDF(\"/urdf/simple_two_wheel_car.urdf\", car_start_pos, car_start_orientation)"
   ]
  },
  {
   "cell_type": "code",
   "execution_count": 11,
   "metadata": {},
   "outputs": [],
   "source": [
    "# Maze\n",
    "goal_area_1_center = [5, 5, 0.1]\n",
    "goal_area_2_center = [5, -5, 0.1]\n",
    "goal_radius = 0.5 # How close the car needs to be\n",
    "\n",
    "# Optional: Visualize goals (only works in GUI mode)\n",
    "if p.getConnectionInfo()['connectionMethod'] == p.GUI:\n",
    "    goal_visual_shape_1 = p.createVisualShape(p.GEOM_SPHERE, radius=goal_radius, rgbaColor=[0, 1, 0, 0.5])\n",
    "    goal_visual_shape_2 = p.createVisualShape(p.GEOM_SPHERE, radius=goal_radius, rgbaColor=[1, 0, 0, 0.5])\n",
    "    p.createMultiBody(baseVisualShapeIndex=goal_visual_shape_1, basePosition=goal_area_1_center)\n",
    "    p.createMultiBody(baseVisualShapeIndex=goal_visual_shape_2, basePosition=goal_area_2_center)\n",
    "\n",
    "# Function to check if car is in a goal area\n",
    "def check_goal(car_id, goal_center, radius):\n",
    "    car_pos, _ = p.getBasePositionAndOrientation(car_id)\n",
    "    dist = np.linalg.norm(np.array(car_pos[:2]) - np.array(goal_center[:2])) # Check only X,Y distance\n",
    "    return dist < radius"
   ]
  },
  {
   "cell_type": "code",
   "execution_count": 12,
   "metadata": {},
   "outputs": [],
   "source": [
    "def set_wheel_velocities(vel_left, veL_right):\n",
    "    p.setJointMotorControl2(car_id, 1, p.VELOCITY_CONTROL, targetVelocity=vel_left)\n",
    "    p.setJointMotorControl2(car_id, 0, p.VELOCITY_CONTROL, targetVelocity=veL_right)\n",
    "\n",
    "\n",
    "# Test basic movement\n",
    "for i in range(100):\n",
    "    set_wheel_velocities(1.0, 10.0) # Move forward\n",
    "    p.stepSimulation()\n",
    "    time.sleep(1./240.)\n",
    "\n",
    "\n",
    "    "
   ]
  },
  {
   "cell_type": "code",
   "execution_count": 14,
   "metadata": {},
   "outputs": [
    {
     "name": "stdout",
     "output_type": "stream",
     "text": [
      "numActiveThreads = 0\n",
      "stopping threads\n",
      "Thread with taskId 0 exiting\n",
      "Thread TERMINATED\n",
      "destroy semaphore\n",
      "semaphore destroyed\n",
      "destroy main semaphore\n",
      "main semaphore destroyed\n",
      "finished\n",
      "numActiveThreads = 0\n",
      "btShutDownExampleBrowser stopping threads\n",
      "Thread with taskId 0 exiting\n",
      "Thread TERMINATED\n",
      "destroy semaphore\n",
      "semaphore destroyed\n",
      "destroy main semaphore\n",
      "main semaphore destroyed\n"
     ]
    }
   ],
   "source": [
    "p.resetSimulation()\n",
    "p.disconnect()"
   ]
  }
 ],
 "metadata": {
  "kernelspec": {
   "display_name": "ve_pybullet",
   "language": "python",
   "name": "python3"
  },
  "language_info": {
   "codemirror_mode": {
    "name": "ipython",
    "version": 3
   },
   "file_extension": ".py",
   "mimetype": "text/x-python",
   "name": "python",
   "nbconvert_exporter": "python",
   "pygments_lexer": "ipython3",
   "version": "3.10.12"
  }
 },
 "nbformat": 4,
 "nbformat_minor": 2
}
